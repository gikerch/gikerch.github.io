{
 "cells": [
  {
   "cell_type": "markdown",
   "metadata": {
    "deletable": true,
    "editable": true
   },
   "source": [
    "# 模型"
   ]
  },
  {
   "cell_type": "markdown",
   "metadata": {
    "deletable": true,
    "editable": true
   },
   "source": [
    "\\begin{align}\n",
    "h_\\theta(x^{(i)}) &= \\theta_0 + \\theta_1x_1+ \\theta_2 x_2 +\\theta_n x_n\\\\\n",
    "&=(x^{(i)})^T \\theta\n",
    "\\end{align}"
   ]
  },
  {
   "cell_type": "markdown",
   "metadata": {
    "deletable": true,
    "editable": true
   },
   "source": [
    "# 学习策略"
   ]
  },
  {
   "cell_type": "markdown",
   "metadata": {
    "deletable": true,
    "editable": true
   },
   "source": [
    "最小化训练样本的真实值与预测值的误差"
   ]
  },
  {
   "cell_type": "markdown",
   "metadata": {
    "deletable": true,
    "editable": true
   },
   "source": [
    "目标函数：\n",
    "$$J(\\theta)=\\frac {1}{2m} \\sum_{i=1}^{m} {(h_\\theta(x^{(i)})-y^{(i)})^2}$$"
   ]
  },
  {
   "cell_type": "markdown",
   "metadata": {
    "deletable": true,
    "editable": true
   },
   "source": [
    "其中，`m`为训练样本数量"
   ]
  },
  {
   "cell_type": "markdown",
   "metadata": {
    "deletable": true,
    "editable": true
   },
   "source": [
    "**[基于极大似然估计的推导](https://millearninggroup.github.io/Stanford-CS229-CN/translation/cs229-notes1-cn/)**"
   ]
  },
  {
   "cell_type": "markdown",
   "metadata": {
    "deletable": true,
    "editable": true
   },
   "source": [
    "# 学习算法"
   ]
  },
  {
   "cell_type": "markdown",
   "metadata": {
    "deletable": true,
    "editable": true
   },
   "source": [
    "## 正规方程"
   ]
  },
  {
   "cell_type": "markdown",
   "metadata": {
    "deletable": true,
    "editable": true
   },
   "source": [
    "$$\\theta= (X^TX )^{-1}X^T\\overset{\\rightarrow} y$$"
   ]
  },
  {
   "cell_type": "markdown",
   "metadata": {
    "deletable": true,
    "editable": true
   },
   "source": [
    "## 梯度下降"
   ]
  },
  {
   "cell_type": "markdown",
   "metadata": {
    "deletable": true,
    "editable": true
   },
   "source": [
    "代价函数偏导数的推导："
   ]
  },
  {
   "cell_type": "markdown",
   "metadata": {
    "deletable": true,
    "editable": true
   },
   "source": [
    "假设只有一个样本(x,y)"
   ]
  },
  {
   "cell_type": "markdown",
   "metadata": {
    "deletable": true,
    "editable": true
   },
   "source": [
    "![](https://millearninggroup.github.io/Stanford-CS229-CN/assets/image/notes1-LMS-1.jpg)"
   ]
  },
  {
   "cell_type": "markdown",
   "metadata": {
    "deletable": true,
    "editable": true
   },
   "source": [
    "推广到 `m` 个样本的偏导数：\n",
    "$$\\frac{\\partial}{\\partial \\theta_j}J(\\theta)= \\sum_{i=1}^m(h_\\theta(x^{(i)})-y^{(i)})x_j^{(i)}$$"
   ]
  },
  {
   "cell_type": "markdown",
   "metadata": {
    "deletable": true,
    "editable": true
   },
   "source": [
    "# Python实现"
   ]
  },
  {
   "cell_type": "code",
   "execution_count": 1,
   "metadata": {
    "collapsed": false,
    "deletable": true,
    "editable": true
   },
   "outputs": [],
   "source": [
    "from __future__ import print_function, division\n",
    "import numpy as np\n",
    "import math\n",
    "from sklearn.metrics import mean_squared_error"
   ]
  },
  {
   "cell_type": "markdown",
   "metadata": {},
   "source": [
    "## 回归基类"
   ]
  },
  {
   "cell_type": "code",
   "execution_count": 2,
   "metadata": {
    "collapsed": true
   },
   "outputs": [],
   "source": [
    "class Regression(object):\n",
    "    \"\"\" Base regression model. Models the relationship between a scalar dependent variable y and the independent \n",
    "    variables X. \n",
    "    Parameters:\n",
    "    -----------\n",
    "    n_iterations: float\n",
    "        The number of training iterations the algorithm will tune the weights for.\n",
    "    learning_rate: float\n",
    "        The step length that will be used when updating the weights.\n",
    "    \"\"\"\n",
    "    def __init__(self, n_iterations, learning_rate):\n",
    "        self.n_iterations = n_iterations\n",
    "        self.learning_rate = learning_rate\n",
    "\n",
    "    def initialize_weights(self, n_features):\n",
    "        \"\"\" Initialize weights randomly [-1/N, 1/N] \"\"\"\n",
    "        limit = 1 / math.sqrt(n_features)\n",
    "        self.w = np.random.uniform(-limit, limit, (n_features, ))\n",
    "\n",
    "    def fit(self, X, y):\n",
    "        # Insert constant ones for bias weights\n",
    "        X = np.insert(X, 0, 1, axis=1)\n",
    "        self.training_errors = []\n",
    "        self.initialize_weights(n_features=X.shape[1])\n",
    "\n",
    "        # Do gradient descent for n_iterations\n",
    "        for i in range(self.n_iterations):\n",
    "            y_pred = X.dot(self.w)\n",
    "            # Calculate l2 loss\n",
    "            mse = np.mean(0.5 * (y - y_pred)**2 + self.regularization(self.w))\n",
    "            self.training_errors.append(mse)\n",
    "            # Gradient of l2 loss w.r.t w\n",
    "            grad_w = -(y - y_pred).dot(X) + self.regularization.grad(self.w)\n",
    "            # Update the weights\n",
    "            self.w -= self.learning_rate * grad_w\n",
    "\n",
    "    def predict(self, X):\n",
    "        # Insert constant ones for bias weights\n",
    "        X = np.insert(X, 0, 1, axis=1)\n",
    "        y_pred = X.dot(self.w)\n",
    "        return y_pred"
   ]
  },
  {
   "cell_type": "markdown",
   "metadata": {},
   "source": [
    "## 正则化"
   ]
  },
  {
   "cell_type": "code",
   "execution_count": 23,
   "metadata": {
    "collapsed": false
   },
   "outputs": [
    {
     "data": {
      "text/plain": [
       "2.2360679774997898"
      ]
     },
     "execution_count": 23,
     "metadata": {},
     "output_type": "execute_result"
    }
   ],
   "source": [
    "np.linalg.norm(np.array([-1,-2]))"
   ]
  },
  {
   "cell_type": "code",
   "execution_count": 3,
   "metadata": {
    "collapsed": true,
    "deletable": true,
    "editable": true
   },
   "outputs": [],
   "source": [
    "class l1_regularization():\n",
    "    \"\"\" Regularization for Lasso Regression \"\"\"\n",
    "    def __init__(self, alpha):\n",
    "        self.alpha = alpha\n",
    "    \n",
    "    def __call__(self, w):\n",
    "        return self.alpha * np.linalg.norm(w)\n",
    "\n",
    "    def grad(self, w):\n",
    "        return self.alpha * np.sign(w)\n",
    "\n",
    "class l2_regularization():\n",
    "    \"\"\" Regularization for Ridge Regression \"\"\"\n",
    "    def __init__(self, alpha):\n",
    "        self.alpha = alpha\n",
    "    \n",
    "    def __call__(self, w):\n",
    "        return self.alpha * 0.5 *  w.T.dot(w)\n",
    "\n",
    "    def grad(self, w):\n",
    "        return self.alpha * w\n",
    "\n",
    "class l1_l2_regularization():\n",
    "    \"\"\" Regularization for Elastic Net Regression \"\"\"\n",
    "    def __init__(self, alpha, l1_ratio=0.5):\n",
    "        self.alpha = alpha\n",
    "        self.l1_ratio = l1_ratio\n",
    "\n",
    "    def __call__(self, w):\n",
    "        l1_contr = self.l1_ratio * np.linalg.norm(w)\n",
    "        l2_contr = (1 - self.l1_ratio) * 0.5 * w.T.dot(w) \n",
    "        return self.alpha * (l1_contr + l2_contr)\n",
    "\n",
    "    def grad(self, w):\n",
    "        l1_contr = self.l1_ratio * np.sign(w)\n",
    "        l2_contr = (1 - self.l1_ratio) * w\n",
    "        return self.alpha * (l1_contr + l2_contr) "
   ]
  },
  {
   "cell_type": "markdown",
   "metadata": {},
   "source": [
    "## 线性回归"
   ]
  },
  {
   "cell_type": "code",
   "execution_count": 4,
   "metadata": {
    "collapsed": false,
    "deletable": true,
    "editable": true
   },
   "outputs": [],
   "source": [
    "class LinearRegression(Regression):\n",
    "    \"\"\".\n",
    "    Parameters:\n",
    "    -----------\n",
    "    n_iterations: float\n",
    "        The number of training iterations the algorithm will tune the weights for.\n",
    "    learning_rate: float\n",
    "        The step length that will be used when updating the weights.\n",
    "    gradient_descent: boolean\n",
    "        True or false depending if gradient descent should be used when training. If \n",
    "        false then we use batch optimization by least squares.\n",
    "    \"\"\"\n",
    "    def __init__(self, n_iterations=100, learning_rate=0.001, gradient_descent=True):\n",
    "        self.gradient_descent = gradient_descent\n",
    "        # No regularization\n",
    "        self.regularization = lambda x: 0\n",
    "        self.regularization.grad = lambda x: 0\n",
    "        super(LinearRegression, self).__init__(n_iterations=n_iterations,\n",
    "                                            learning_rate=learning_rate)\n",
    "    def fit(self, X, y):\n",
    "        # If not gradient descent => Least squares approximation of w\n",
    "        if not self.gradient_descent:\n",
    "            # Insert constant ones for bias weights\n",
    "            X = np.insert(X, 0, 1, axis=1)\n",
    "            # Calculate weights by least squares (using Moore-Penrose pseudoinverse)\n",
    "            U, S, V = np.linalg.svd(X.T.dot(X))\n",
    "            S = np.diag(S)\n",
    "            X_sq_reg_inv = V.dot(np.linalg.pinv(S)).dot(U.T)\n",
    "            self.w = X_sq_reg_inv.dot(X.T).dot(y)\n",
    "        else:\n",
    "            super(LinearRegression, self).fit(X, y)"
   ]
  },
  {
   "cell_type": "markdown",
   "metadata": {},
   "source": [
    "## Lasso回归"
   ]
  },
  {
   "cell_type": "code",
   "execution_count": 5,
   "metadata": {
    "collapsed": true
   },
   "outputs": [],
   "source": [
    "class LassoRegression(Regression):\n",
    "    \"\"\"Linear regression model with a regularization factor which does both variable selection \n",
    "    and regularization. Model that tries to balance the fit of the model with respect to the training \n",
    "    data and the complexity of the model. A large regularization factor with decreases the variance of \n",
    "    the model and do para.\n",
    "    Parameters:\n",
    "    -----------\n",
    "    reg_factor: float\n",
    "        The factor that will determine the amount of regularization and feature\n",
    "        shrinkage. \n",
    "    n_iterations: float\n",
    "        The number of training iterations the algorithm will tune the weights for.\n",
    "    learning_rate: float\n",
    "        The step length that will be used when updating the weights.\n",
    "    \"\"\"\n",
    "    def __init__(self, degree, reg_factor, n_iterations=3000, learning_rate=0.01):\n",
    "        self.degree = degree\n",
    "        self.regularization = l1_regularization(alpha=reg_factor)\n",
    "        super(LassoRegression, self).__init__(n_iterations, \n",
    "                                            learning_rate)"
   ]
  },
  {
   "cell_type": "markdown",
   "metadata": {},
   "source": [
    "## 岭回归"
   ]
  },
  {
   "cell_type": "code",
   "execution_count": 6,
   "metadata": {
    "collapsed": true
   },
   "outputs": [],
   "source": [
    "class RidgeRegression(Regression):\n",
    "    \"\"\"Also referred to as Tikhonov regularization. Linear regression model with a regularization factor.\n",
    "    Model that tries to balance the fit of the model with respect to the training data and the complexity\n",
    "    of the model. A large regularization factor with decreases the variance of the model.\n",
    "    Parameters:\n",
    "    -----------\n",
    "    reg_factor: float\n",
    "        The factor that will determine the amount of regularization and feature\n",
    "        shrinkage. \n",
    "    n_iterations: float\n",
    "        The number of training iterations the algorithm will tune the weights for.\n",
    "    learning_rate: float\n",
    "        The step length that will be used when updating the weights.\n",
    "    \"\"\"\n",
    "    def __init__(self, reg_factor, n_iterations=1000, learning_rate=0.001):\n",
    "        self.regularization = l2_regularization(alpha=reg_factor)\n",
    "        super(RidgeRegression, self).__init__(n_iterations, \n",
    "                                            learning_rate)"
   ]
  },
  {
   "cell_type": "markdown",
   "metadata": {},
   "source": [
    "## ElasticNet回归"
   ]
  },
  {
   "cell_type": "code",
   "execution_count": 7,
   "metadata": {
    "collapsed": true
   },
   "outputs": [],
   "source": [
    "class ElasticNet(Regression):\n",
    "    \"\"\" Regression where a combination of l1 and l2 regularization are used. The\n",
    "    ratio of their contributions are set with the 'l1_ratio' parameter.\n",
    "    Parameters:\n",
    "    -----------\n",
    "    reg_factor: float\n",
    "        The factor that will determine the amount of regularization and feature\n",
    "        shrinkage. \n",
    "    l1_ration: float\n",
    "        Weighs the contribution of l1 and l2 regularization.\n",
    "    n_iterations: float\n",
    "        The number of training iterations the algorithm will tune the weights for.\n",
    "    learning_rate: float\n",
    "        The step length that will be used when updating the weights.\n",
    "    \"\"\"\n",
    "    def __init__(self, reg_factor=0.05, l1_ratio=0.5, n_iterations=3000, \n",
    "                learning_rate=0.01):\n",
    "        self.regularization = l1_l2_regularization(alpha=reg_factor, l1_ratio=l1_ratio)\n",
    "        super(ElasticNet, self).__init__(n_iterations, \n",
    "                                        learning_rate)"
   ]
  },
  {
   "cell_type": "markdown",
   "metadata": {},
   "source": [
    "## 多项式回归"
   ]
  },
  {
   "cell_type": "code",
   "execution_count": 8,
   "metadata": {
    "collapsed": true
   },
   "outputs": [],
   "source": [
    "from sklearn.preprocessing import PolynomialFeatures\n",
    "\n",
    "class PolynomialRegression(Regression):\n",
    "    \"\"\"Performs a non-linear transformation of the data before fitting the model\n",
    "    and doing predictions which allows for doing non-linear regression.\n",
    "    Parameters:\n",
    "    -----------\n",
    "    degree: int\n",
    "        The degree of the polynomial that the independent variable X will be transformed to.\n",
    "    n_iterations: float\n",
    "        The number of training iterations the algorithm will tune the weights for.\n",
    "    learning_rate: float\n",
    "        The step length that will be used when updating the weights.\n",
    "    \"\"\"\n",
    "    def __init__(self, degree, n_iterations=3000, learning_rate=0.001):\n",
    "        self.degree = degree\n",
    "        # No regularization\n",
    "        self.regularization = lambda x: 0\n",
    "        self.regularization.grad = lambda x: 0\n",
    "        super(PolynomialRegression, self).__init__(n_iterations=n_iterations,\n",
    "                                                learning_rate=learning_rate)\n",
    "\n",
    "    def fit(self, X, y):\n",
    "        self.poly = PolynomialFeatures(self.degree)\n",
    "        X = self.poly.fit_transform(X)\n",
    "        super(PolynomialRegression, self).fit(X, y)\n",
    "\n",
    "    def predict(self, X):\n",
    "        X = self.poly.transform(X)\n",
    "        return super(PolynomialRegression, self).predict(X)"
   ]
  },
  {
   "cell_type": "markdown",
   "metadata": {},
   "source": [
    "## 多项式岭回归"
   ]
  },
  {
   "cell_type": "code",
   "execution_count": 9,
   "metadata": {
    "collapsed": true
   },
   "outputs": [],
   "source": [
    "class PolynomialRidgeRegression(Regression):\n",
    "    \"\"\"Similar to regular ridge regression except that the data is transformed to allow\n",
    "    for polynomial regression.\n",
    "    Parameters:\n",
    "    -----------\n",
    "    degree: int\n",
    "        The degree of the polynomial that the independent variable X will be transformed to.\n",
    "    reg_factor: float\n",
    "        The factor that will determine the amount of regularization and feature\n",
    "        shrinkage. \n",
    "    n_iterations: float\n",
    "        The number of training iterations the algorithm will tune the weights for.\n",
    "    learning_rate: float\n",
    "        The step length that will be used when updating the weights.\n",
    "    \"\"\"\n",
    "    def __init__(self, degree, reg_factor, n_iterations=100, learning_rate=0.001, gradient_descent=True):\n",
    "        self.degree = degree\n",
    "        self.regularization = l2_regularization(alpha=reg_factor)\n",
    "        super(PolynomialRidgeRegression, self).__init__(n_iterations, \n",
    "                                                        learning_rate)\n",
    "\n",
    "    def fit(self, X, y):\n",
    "        self.poly = PolynomialFeatures(self.degree)\n",
    "        X = self.poly.fit_transform(X)\n",
    "        super(PolynomialRidgeRegression, self).fit(X, y)\n",
    "\n",
    "    def predict(self, X):\n",
    "        X = self.poly.transform(X)\n",
    "        return super(PolynomialRidgeRegression, self).predict(X)"
   ]
  },
  {
   "cell_type": "markdown",
   "metadata": {},
   "source": [
    "## 测试用例"
   ]
  },
  {
   "cell_type": "markdown",
   "metadata": {},
   "source": [
    "### 模型训练"
   ]
  },
  {
   "cell_type": "code",
   "execution_count": 10,
   "metadata": {
    "collapsed": true
   },
   "outputs": [],
   "source": [
    "import numpy as np\n",
    "import pandas as pd\n",
    "import matplotlib.pyplot as plt\n",
    "from sklearn.datasets import make_regression\n",
    "from sklearn.model_selection import train_test_split\n",
    "\n",
    "\n",
    "X, y = make_regression(n_samples=100, n_features=1, noise=20)\n",
    "\n",
    "X_train, X_test, y_train, y_test = train_test_split(X, y, test_size=0.4)\n",
    "\n",
    "n_samples, n_features = np.shape(X)\n",
    "\n",
    "model = PolynomialRidgeRegression(degree=2,reg_factor=0.1)\n",
    "\n",
    "model.fit(X_train, y_train)"
   ]
  },
  {
   "cell_type": "markdown",
   "metadata": {},
   "source": [
    "### 学习曲线"
   ]
  },
  {
   "cell_type": "code",
   "execution_count": 11,
   "metadata": {
    "collapsed": false
   },
   "outputs": [
    {
     "data": {
      "image/png": "[encoded data removed]",
      "text/plain": [
       "<matplotlib.figure.Figure at 0xf88ec18>"
      ]
     },
     "metadata": {},
     "output_type": "display_data"
    }
   ],
   "source": [
    "# Training error plot\n",
    "n = len(model.training_errors)\n",
    "training, = plt.plot(range(n), model.training_errors, label=\"Training Error\")\n",
    "plt.legend(handles=[training])\n",
    "plt.title(\"Error Plot\")\n",
    "plt.ylabel('Mean Squared Error')\n",
    "plt.xlabel('Iterations')\n",
    "plt.show()"
   ]
  },
  {
   "cell_type": "markdown",
   "metadata": {},
   "source": [
    "### 模型预测"
   ]
  },
  {
   "cell_type": "code",
   "execution_count": 12,
   "metadata": {
    "collapsed": false
   },
   "outputs": [
    {
     "name": "stdout",
     "output_type": "stream",
     "text": [
      "Mean squared error: 589.05823077\n"
     ]
    }
   ],
   "source": [
    "y_pred = model.predict(X_test)\n",
    "mse = mean_squared_error(y_test, y_pred)\n",
    "print (\"Mean squared error: %s\" % (mse))"
   ]
  },
  {
   "cell_type": "markdown",
   "metadata": {},
   "source": [
    "### 模型拟合情况"
   ]
  },
  {
   "cell_type": "code",
   "execution_count": 13,
   "metadata": {
    "collapsed": false,
    "deletable": true,
    "editable": true
   },
   "outputs": [
    {
     "data": {
      "image/png": "[encoded data removed]",
      "text/plain": [
       "<matplotlib.figure.Figure at 0xf88efd0>"
      ]
     },
     "metadata": {},
     "output_type": "display_data"
    }
   ],
   "source": [
    "y_pred_line = model.predict(X)\n",
    "\n",
    "# Color map\n",
    "cmap = plt.get_cmap('viridis')\n",
    "\n",
    "# Plot the results\n",
    "m1 = plt.scatter(366 * X_train, y_train, color=cmap(0.9), s=10)\n",
    "m2 = plt.scatter(366 * X_test, y_test, color=cmap(0.5), s=10)\n",
    "plt.plot(366 * X, y_pred_line, color='black', linewidth=2, label=\"Prediction\")\n",
    "plt.suptitle(\"Linear Regression\")\n",
    "plt.title(\"MSE: %.2f\" % mse, fontsize=10)\n",
    "plt.xlabel('Day')\n",
    "plt.ylabel('Temperature in Celcius')\n",
    "plt.legend((m1, m2), (\"Training data\", \"Test data\"), loc='lower right')\n",
    "plt.show()"
   ]
  },
  {
   "cell_type": "markdown",
   "metadata": {},
   "source": [
    "# sklearn实现"
   ]
  },
  {
   "cell_type": "code",
   "execution_count": 15,
   "metadata": {
    "collapsed": false
   },
   "outputs": [
    {
     "data": {
      "text/plain": [
       "LinearRegression(copy_X=True, fit_intercept=True, n_jobs=1, normalize=False)"
      ]
     },
     "execution_count": 15,
     "metadata": {},
     "output_type": "execute_result"
    }
   ],
   "source": [
    "from sklearn.linear_model import LinearRegression\n",
    "model = LinearRegression()\n",
    "model.fit(X_train, y_train)"
   ]
  },
  {
   "cell_type": "markdown",
   "metadata": {},
   "source": [
    "# Reference:\n",
    "- [cs229 Note1](https://millearninggroup.github.io/Stanford-CS229-CN/translation/cs229-notes1-cn/)\n",
    "- [线性回归原理小结](http://www.cnblogs.com/pinard/p/6004041.html)\n",
    "- [scikit-learn 线性回归算法库小结](http://www.cnblogs.com/pinard/p/6026343.html)"
   ]
  },
  {
   "cell_type": "code",
   "execution_count": null,
   "metadata": {
    "collapsed": true
   },
   "outputs": [],
   "source": []
  }
 ],
 "metadata": {
  "kernelspec": {
   "display_name": "Python 2",
   "language": "python",
   "name": "python2"
  },
  "language_info": {
   "codemirror_mode": {
    "name": "ipython",
    "version": 2
   },
   "file_extension": ".py",
   "mimetype": "text/x-python",
   "name": "python",
   "nbconvert_exporter": "python",
   "pygments_lexer": "ipython2",
   "version": "2.7.13"
  },
  "toc": {
   "base_numbering": 1,
   "nav_menu": {},
   "number_sections": true,
   "sideBar": true,
   "skip_h1_title": false,
   "title_cell": "目录",
   "title_sidebar": "Contents",
   "toc_cell": false,
   "toc_position": {
    "height": "calc(100% - 180px)",
    "left": "10px",
    "top": "150px",
    "width": "293px"
   },
   "toc_section_display": true,
   "toc_window_display": false
  },
  "varInspector": {
   "cols": {
    "lenName": 16,
    "lenType": 16,
    "lenVar": 40
   },
   "kernels_config": {
    "python": {
     "delete_cmd_postfix": "",
     "delete_cmd_prefix": "del ",
     "library": "var_list.py",
     "varRefreshCmd": "print(var_dic_list())"
    },
    "r": {
     "delete_cmd_postfix": ") ",
     "delete_cmd_prefix": "rm(",
     "library": "var_list.r",
     "varRefreshCmd": "cat(var_dic_list()) "
    }
   },
   "types_to_exclude": [
    "module",
    "function",
    "builtin_function_or_method",
    "instance",
    "_Feature"
   ],
   "window_display": false
  }
 },
 "nbformat": 4,
 "nbformat_minor": 2
}
